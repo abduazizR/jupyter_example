{
 "cells": [
  {
   "cell_type": "markdown",
   "id": "0aae4d4a",
   "metadata": {},
   "source": [
    "# Tools for Data Science"
   ]
  },
  {
   "cell_type": "markdown",
   "id": "bd3cd360",
   "metadata": {},
   "source": [
    "## Introduction\n",
    "\n",
    "This notebook introduces key components of data science using Python, including popular languages, libraries, and basic programming operations."
   ]
  },
  {
   "cell_type": "markdown",
   "id": "a28ef7c2",
   "metadata": {},
   "source": [
    "## Data Science Languages\n",
    "\n",
    "- Python  \n",
    "- R  \n",
    "- SQL  \n",
    "- Julia  \n",
    "- Scala  \n",
    "- Java"
   ]
  },
  {
   "cell_type": "markdown",
   "id": "b4b27af5",
   "metadata": {},
   "source": [
    "## Data Science Libraries\n",
    "\n",
    "- **NumPy** – for numerical operations  \n",
    "- **Pandas** – for data manipulation and analysis  \n",
    "- **Matplotlib** – for data visualization  \n",
    "- **Seaborn** – for statistical data visualization  \n",
    "- **Scikit-learn** – for machine learning  \n",
    "- **TensorFlow** – for deep learning  \n",
    "- **Statsmodels** – for statistical modeling"
   ]
  },
  {
   "cell_type": "markdown",
   "id": "ac4541a1",
   "metadata": {},
   "source": [
    "## Data Science Tools\n",
    "\n",
    "| Tool            | Category              | Use Case                          |\n",
    "|-----------------|-----------------------|-----------------------------------|\n",
    "| Jupyter Notebook| IDE/Notebook Interface| Writing and running code          |\n",
    "| Git             | Version Control       | Managing code changes             |\n",
    "| Docker          | Containerization      | Reproducible environments         |\n",
    "| Tableau         | Data Visualization    | Interactive dashboards            |\n",
    "| Excel           | Spreadsheet           | Data entry and simple analysis    |"
   ]
  },
  {
   "cell_type": "markdown",
   "id": "9ed94009",
   "metadata": {},
   "source": [
    "## Arithmetic Expression Examples\n",
    "\n",
    "Below are examples of basic arithmetic expressions in Python, including addition and multiplication."
   ]
  },
  {
   "cell_type": "code",
   "execution_count": null,
   "id": "4f39bb60",
   "metadata": {},
   "outputs": [],
   "source": [
    "product = 5 * 4\n",
    "sum_result = 10 + 6\n",
    "print(\"Product:\", product)\n",
    "print(\"Sum:\", sum_result)"
   ]
  },
  {
   "cell_type": "code",
   "execution_count": null,
   "id": "979b5261",
   "metadata": {},
   "outputs": [],
   "source": [
    "minutes = 150\n",
    "hours = minutes / 60\n",
    "print(\"Hours:\", hours)"
   ]
  },
  {
   "cell_type": "markdown",
   "id": "674055ae",
   "metadata": {},
   "source": [
    "## Objectives\n",
    "\n",
    "- Understand common languages used in data science  \n",
    "- Explore popular data science libraries  \n",
    "- Learn how to perform basic arithmetic operations in Python  \n",
    "- Practice using markdown and code cells in a Jupyter notebook"
   ]
  },
  {
   "cell_type": "markdown",
   "id": "94349469",
   "metadata": {},
   "source": [
    "**Author:** Abdullah Abdelaziz"
   ]
  }
 ],
 "metadata": {
  "language_info": {
   "name": "plaintext"
  }
 },
 "nbformat": 4,
 "nbformat_minor": 5
}
